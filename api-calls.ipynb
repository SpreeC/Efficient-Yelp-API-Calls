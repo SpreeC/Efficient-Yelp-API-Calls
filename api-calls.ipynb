{
 "cells": [
  {
   "cell_type": "markdown",
   "id": "bc8044c6-3bf4-460c-8a1f-0a854c915768",
   "metadata": {},
   "source": [
    "# Imports"
   ]
  },
  {
   "cell_type": "code",
   "execution_count": 1,
   "id": "5e2238f0-5362-4fe7-8801-d3129a9e1420",
   "metadata": {},
   "outputs": [],
   "source": [
    "import numpy as np\n",
    "import pandas as pd\n",
    "import os, json, math, time"
   ]
  },
  {
   "cell_type": "code",
   "execution_count": 2,
   "id": "03e38513-d7d0-497d-87fb-49b4c78ccdda",
   "metadata": {},
   "outputs": [
    {
     "name": "stdout",
     "output_type": "stream",
     "text": [
      "Collecting yelpapi\n",
      "  Downloading yelpapi-2.5.0-py3-none-any.whl (7.4 kB)\n",
      "Requirement already satisfied: requests in c:\\users\\17175\\anaconda3\\envs\\dojo-env\\lib\\site-packages (from yelpapi) (2.29.0)\n",
      "Requirement already satisfied: charset-normalizer<4,>=2 in c:\\users\\17175\\anaconda3\\envs\\dojo-env\\lib\\site-packages (from requests->yelpapi) (2.0.4)\n",
      "Requirement already satisfied: idna<4,>=2.5 in c:\\users\\17175\\anaconda3\\envs\\dojo-env\\lib\\site-packages (from requests->yelpapi) (3.4)\n",
      "Requirement already satisfied: urllib3<1.27,>=1.21.1 in c:\\users\\17175\\anaconda3\\envs\\dojo-env\\lib\\site-packages (from requests->yelpapi) (1.26.15)\n",
      "Requirement already satisfied: certifi>=2017.4.17 in c:\\users\\17175\\anaconda3\\envs\\dojo-env\\lib\\site-packages (from requests->yelpapi) (2023.5.7)\n",
      "Installing collected packages: yelpapi\n",
      "Successfully installed yelpapi-2.5.0\n",
      "Requirement already satisfied: tqdm in c:\\users\\17175\\anaconda3\\envs\\dojo-env\\lib\\site-packages (4.65.0)\n",
      "Requirement already satisfied: colorama in c:\\users\\17175\\anaconda3\\envs\\dojo-env\\lib\\site-packages (from tqdm) (0.4.6)\n"
     ]
    }
   ],
   "source": [
    "!pip install yelpapi\n",
    "!pip install tqdm"
   ]
  },
  {
   "cell_type": "code",
   "execution_count": 2,
   "id": "a7399163-a5a9-426b-b332-83a8dab33b67",
   "metadata": {},
   "outputs": [],
   "source": [
    "from yelpapi import YelpAPI\n",
    "from tqdm.notebook import tqdm_notebook"
   ]
  },
  {
   "cell_type": "code",
   "execution_count": 3,
   "id": "f7c0cdea-5176-415e-bc11-e545656927d9",
   "metadata": {},
   "outputs": [],
   "source": [
    "#load API Credentials\n",
    "with open('/Users/17175/.secret/yelp_api.json','r') as f:\n",
    "    login = json.load(f)"
   ]
  },
  {
   "cell_type": "code",
   "execution_count": 4,
   "id": "e978ac5c-119e-4892-9f6f-06f821058273",
   "metadata": {},
   "outputs": [
    {
     "data": {
      "text/plain": [
       "dict_keys(['client-id', 'api-key'])"
      ]
     },
     "execution_count": 4,
     "metadata": {},
     "output_type": "execute_result"
    }
   ],
   "source": [
    "login.keys()"
   ]
  },
  {
   "cell_type": "code",
   "execution_count": 6,
   "id": "2bbca3ef-95ae-416c-9f0b-b7e1cdcad184",
   "metadata": {},
   "outputs": [
    {
     "data": {
      "text/plain": [
       "<yelpapi.yelpapi.YelpAPI at 0x1b4d977dcf0>"
      ]
     },
     "execution_count": 6,
     "metadata": {},
     "output_type": "execute_result"
    }
   ],
   "source": [
    "#instantiate yelpapi variable\n",
    "yelp = YelpAPI(login['api-key'], timeout_s = 5.0)\n",
    "yelp"
   ]
  },
  {
   "cell_type": "markdown",
   "id": "533dccfc-9cd0-4cb6-85ea-f58e046e2e43",
   "metadata": {},
   "source": [
    "# Define search terms and file paths"
   ]
  },
  {
   "cell_type": "code",
   "execution_count": 7,
   "id": "b6e10c32-7ee1-4a5e-a692-ac36078f3db5",
   "metadata": {},
   "outputs": [],
   "source": [
    "location = 'Lancaster, PA 17603'\n",
    "term = 'ramen'"
   ]
  },
  {
   "cell_type": "code",
   "execution_count": 8,
   "id": "ecac0b9f-ca8c-4785-b078-1e118e5e888d",
   "metadata": {},
   "outputs": [
    {
     "data": {
      "text/plain": [
       "'Lancaster'"
      ]
     },
     "execution_count": 8,
     "metadata": {},
     "output_type": "execute_result"
    }
   ],
   "source": [
    "location.split(',')[0]"
   ]
  },
  {
   "cell_type": "code",
   "execution_count": 19,
   "id": "833e282a-7f72-404e-a198-6b0740c29831",
   "metadata": {},
   "outputs": [],
   "source": [
    "#specify folder for saving data\n",
    "FOLDER = 'Data/'\n",
    "os.makedirs(FOLDER, exist_ok = True)\n",
    "#specifying json_file filename\n",
    "JSON_FILE = FOLDER+f\"{location.split(',')[0]}-{term}.json\""
   ]
  },
  {
   "cell_type": "code",
   "execution_count": 20,
   "id": "d0341816-4ad8-4745-9fcd-33fd40c1a56b",
   "metadata": {},
   "outputs": [
    {
     "data": {
      "text/plain": [
       "'Data/Lancaster-ramen.json'"
      ]
     },
     "execution_count": 20,
     "metadata": {},
     "output_type": "execute_result"
    }
   ],
   "source": [
    "JSON_FILE"
   ]
  },
  {
   "cell_type": "code",
   "execution_count": 22,
   "id": "ba77bba5-9cef-40af-9ddf-fd59e9fbd9dc",
   "metadata": {},
   "outputs": [
    {
     "name": "stdout",
     "output_type": "stream",
     "text": [
      "[i] (JSON_FILE) not found. Saving empty list to file.\n"
     ]
    }
   ],
   "source": [
    "#check if file exists\n",
    "file_exists = os.path.isfile(JSON_FILE)\n",
    "#if it does not exist\n",
    "if file_exists == False:\n",
    "    #Create folder\n",
    "    #get folder name\n",
    "    folder = os.path.dirname(JSON_FILE)\n",
    "\n",
    "    #if jsonfile included a folder:\n",
    "    if len(folder)>0:\n",
    "        #create folder\n",
    "        os.makedirs(folder,exist_ok = True)\n",
    "\n",
    "    #inform user and save empty list\n",
    "    print(f\"[i] (JSON_FILE) not found. Saving empty list to file.\")\n",
    "\n",
    "    #save first page of results\n",
    "    with open(JSON_FILE, 'w') as f:\n",
    "        json.dump((), f)\n",
    "\n",
    "#If it exists, inform user\n",
    "else:\n",
    "    print(f\"[i] (JSON_FILE) already exists.\")"
   ]
  },
  {
   "cell_type": "markdown",
   "id": "9ef54c64-c0ff-41df-a227-b4654852366a",
   "metadata": {},
   "source": [
    "# determine how many results there are and figure how many pages of results is needed"
   ]
  },
  {
   "cell_type": "code",
   "execution_count": 23,
   "id": "a52cdebc-30eb-46ec-9287-9143bf67925b",
   "metadata": {},
   "outputs": [
    {
     "name": "stdout",
     "output_type": "stream",
     "text": [
      "- 0 previous results found.\n"
     ]
    }
   ],
   "source": [
    "#load previous results (there shouldn't be any)\n",
    "with open(JSON_FILE, 'r') as f:\n",
    "    previous_results= json.load(f)\n",
    "\n",
    "#set offset based on previous results\n",
    "n_results = len(previous_results)\n",
    "print(f'- {n_results} previous results found.')"
   ]
  },
  {
   "cell_type": "code",
   "execution_count": 25,
   "id": "24d08746-2b9e-49e3-9f32-31d28ef19ba8",
   "metadata": {},
   "outputs": [
    {
     "data": {
      "text/plain": [
       "dict_keys(['businesses', 'total', 'region'])"
      ]
     },
     "execution_count": 25,
     "metadata": {},
     "output_type": "execute_result"
    }
   ],
   "source": [
    "#perform first call\n",
    "results = yelp.search_query(location=location, term=term, offset=n_results)\n",
    "results.keys()"
   ]
  },
  {
   "cell_type": "code",
   "execution_count": 26,
   "id": "dc90a63a-7ba5-48a2-901c-5e381534d841",
   "metadata": {},
   "outputs": [
    {
     "data": {
      "text/plain": [
       "14"
      ]
     },
     "execution_count": 26,
     "metadata": {},
     "output_type": "execute_result"
    }
   ],
   "source": [
    "#how many results total?\n",
    "total_results = results['total']\n",
    "total_results"
   ]
  },
  {
   "cell_type": "code",
   "execution_count": 27,
   "id": "50879474-b2c6-43b9-84fd-b9c4d323badf",
   "metadata": {},
   "outputs": [
    {
     "data": {
      "text/plain": [
       "14"
      ]
     },
     "execution_count": 27,
     "metadata": {},
     "output_type": "execute_result"
    }
   ],
   "source": [
    "#how many did we get the details for?\n",
    "results_per_page =len(results['businesses'])\n",
    "results_per_page"
   ]
  },
  {
   "cell_type": "code",
   "execution_count": 28,
   "id": "4e05356e-7c53-42f1-8723-2af7a4fc6457",
   "metadata": {},
   "outputs": [],
   "source": [
    "#join new results with old list with extend and save to file\n",
    "previous_results.extend(results['businesses'])\n",
    "with open(JSON_FILE, 'w') as f:\n",
    "    json.dump(previous_results,f)"
   ]
  },
  {
   "cell_type": "markdown",
   "id": "2e74e162-3f97-4951-814c-d3aff1e8ae2f",
   "metadata": {},
   "source": [
    "# Convert .json to dataframe"
   ]
  },
  {
   "cell_type": "code",
   "execution_count": 29,
   "id": "6c0c3e4a-7861-47b0-90fb-d097de735397",
   "metadata": {},
   "outputs": [
    {
     "data": {
      "text/html": [
       "<div>\n",
       "<style scoped>\n",
       "    .dataframe tbody tr th:only-of-type {\n",
       "        vertical-align: middle;\n",
       "    }\n",
       "\n",
       "    .dataframe tbody tr th {\n",
       "        vertical-align: top;\n",
       "    }\n",
       "\n",
       "    .dataframe thead th {\n",
       "        text-align: right;\n",
       "    }\n",
       "</style>\n",
       "<table border=\"1\" class=\"dataframe\">\n",
       "  <thead>\n",
       "    <tr style=\"text-align: right;\">\n",
       "      <th></th>\n",
       "      <th>id</th>\n",
       "      <th>alias</th>\n",
       "      <th>name</th>\n",
       "      <th>image_url</th>\n",
       "      <th>is_closed</th>\n",
       "      <th>url</th>\n",
       "      <th>review_count</th>\n",
       "      <th>categories</th>\n",
       "      <th>rating</th>\n",
       "      <th>coordinates</th>\n",
       "      <th>transactions</th>\n",
       "      <th>location</th>\n",
       "      <th>phone</th>\n",
       "      <th>display_phone</th>\n",
       "      <th>distance</th>\n",
       "      <th>price</th>\n",
       "    </tr>\n",
       "  </thead>\n",
       "  <tbody>\n",
       "    <tr>\n",
       "      <th>0</th>\n",
       "      <td>n4GL78xZDW2FJomsjITjGg</td>\n",
       "      <td>ninja-ramen-lancaster</td>\n",
       "      <td>Ninja Ramen</td>\n",
       "      <td>https://s3-media1.fl.yelpcdn.com/bphoto/Iw3Lgz...</td>\n",
       "      <td>False</td>\n",
       "      <td>https://www.yelp.com/biz/ninja-ramen-lancaster...</td>\n",
       "      <td>26</td>\n",
       "      <td>[{'alias': 'ramen', 'title': 'Ramen'}]</td>\n",
       "      <td>4.5</td>\n",
       "      <td>{'latitude': 40.074193163754, 'longitude': -76...</td>\n",
       "      <td>[]</td>\n",
       "      <td>{'address1': '2046 Fruitville Pike', 'address2...</td>\n",
       "      <td>17178859036</td>\n",
       "      <td>(717) 885-9036</td>\n",
       "      <td>8589.063222</td>\n",
       "      <td>NaN</td>\n",
       "    </tr>\n",
       "    <tr>\n",
       "      <th>1</th>\n",
       "      <td>QIuOfv6Sipw_gyjJZ690iQ</td>\n",
       "      <td>issei-noodle-lancaster-lancaster</td>\n",
       "      <td>Issei Noodle Lancaster</td>\n",
       "      <td>https://s3-media4.fl.yelpcdn.com/bphoto/WFxud1...</td>\n",
       "      <td>False</td>\n",
       "      <td>https://www.yelp.com/biz/issei-noodle-lancaste...</td>\n",
       "      <td>294</td>\n",
       "      <td>[{'alias': 'ramen', 'title': 'Ramen'}, {'alias...</td>\n",
       "      <td>4.0</td>\n",
       "      <td>{'latitude': 40.039017, 'longitude': -76.306519}</td>\n",
       "      <td>[delivery]</td>\n",
       "      <td>{'address1': '44 N Queen St', 'address2': 'Ste...</td>\n",
       "      <td>17174496800</td>\n",
       "      <td>(717) 449-6800</td>\n",
       "      <td>6654.382822</td>\n",
       "      <td>$$</td>\n",
       "    </tr>\n",
       "    <tr>\n",
       "      <th>2</th>\n",
       "      <td>FKDrzrfmx5YuVkBZ-JHX4w</td>\n",
       "      <td>noodle-shack-lititz-2</td>\n",
       "      <td>Noodle Shack</td>\n",
       "      <td>https://s3-media3.fl.yelpcdn.com/bphoto/BFl_l1...</td>\n",
       "      <td>False</td>\n",
       "      <td>https://www.yelp.com/biz/noodle-shack-lititz-2...</td>\n",
       "      <td>75</td>\n",
       "      <td>[{'alias': 'asianfusion', 'title': 'Asian Fusi...</td>\n",
       "      <td>4.0</td>\n",
       "      <td>{'latitude': 40.130175, 'longitude': -76.307694}</td>\n",
       "      <td>[pickup, delivery]</td>\n",
       "      <td>{'address1': '1032 Lititz Pike', 'address2': '...</td>\n",
       "      <td>17176270375</td>\n",
       "      <td>(717) 627-0375</td>\n",
       "      <td>14913.010138</td>\n",
       "      <td>NaN</td>\n",
       "    </tr>\n",
       "    <tr>\n",
       "      <th>3</th>\n",
       "      <td>iUx7FF6UM3TF9evk-JbVsQ</td>\n",
       "      <td>onions-cafe-lancaster</td>\n",
       "      <td>Onion's Cafe</td>\n",
       "      <td>https://s3-media3.fl.yelpcdn.com/bphoto/RXNuBo...</td>\n",
       "      <td>False</td>\n",
       "      <td>https://www.yelp.com/biz/onions-cafe-lancaster...</td>\n",
       "      <td>76</td>\n",
       "      <td>[{'alias': 'korean', 'title': 'Korean'}, {'ali...</td>\n",
       "      <td>4.0</td>\n",
       "      <td>{'latitude': 40.043698, 'longitude': -76.3069658}</td>\n",
       "      <td>[pickup, delivery]</td>\n",
       "      <td>{'address1': '340 N Queen St', 'address2': '',...</td>\n",
       "      <td>17173968777</td>\n",
       "      <td>(717) 396-8777</td>\n",
       "      <td>6934.240186</td>\n",
       "      <td>$</td>\n",
       "    </tr>\n",
       "    <tr>\n",
       "      <th>4</th>\n",
       "      <td>nFei3TlPFDLgIKJ0iqzEvQ</td>\n",
       "      <td>shogun-japanese-steakhouse-and-sushi-lancaster-2</td>\n",
       "      <td>Shogun Japanese Steakhouse and Sushi</td>\n",
       "      <td>https://s3-media1.fl.yelpcdn.com/bphoto/HFgUbT...</td>\n",
       "      <td>False</td>\n",
       "      <td>https://www.yelp.com/biz/shogun-japanese-steak...</td>\n",
       "      <td>81</td>\n",
       "      <td>[{'alias': 'japanese', 'title': 'Japanese'}, {...</td>\n",
       "      <td>4.0</td>\n",
       "      <td>{'latitude': 40.066578, 'longitude': -76.337663}</td>\n",
       "      <td>[pickup, delivery]</td>\n",
       "      <td>{'address1': '680 Park City Ctr', 'address2': ...</td>\n",
       "      <td>17172991000</td>\n",
       "      <td>(717) 299-1000</td>\n",
       "      <td>7409.197307</td>\n",
       "      <td>$$</td>\n",
       "    </tr>\n",
       "  </tbody>\n",
       "</table>\n",
       "</div>"
      ],
      "text/plain": [
       "                       id                                             alias  \\\n",
       "0  n4GL78xZDW2FJomsjITjGg                             ninja-ramen-lancaster   \n",
       "1  QIuOfv6Sipw_gyjJZ690iQ                  issei-noodle-lancaster-lancaster   \n",
       "2  FKDrzrfmx5YuVkBZ-JHX4w                             noodle-shack-lititz-2   \n",
       "3  iUx7FF6UM3TF9evk-JbVsQ                             onions-cafe-lancaster   \n",
       "4  nFei3TlPFDLgIKJ0iqzEvQ  shogun-japanese-steakhouse-and-sushi-lancaster-2   \n",
       "\n",
       "                                   name  \\\n",
       "0                           Ninja Ramen   \n",
       "1                Issei Noodle Lancaster   \n",
       "2                          Noodle Shack   \n",
       "3                          Onion's Cafe   \n",
       "4  Shogun Japanese Steakhouse and Sushi   \n",
       "\n",
       "                                           image_url  is_closed  \\\n",
       "0  https://s3-media1.fl.yelpcdn.com/bphoto/Iw3Lgz...      False   \n",
       "1  https://s3-media4.fl.yelpcdn.com/bphoto/WFxud1...      False   \n",
       "2  https://s3-media3.fl.yelpcdn.com/bphoto/BFl_l1...      False   \n",
       "3  https://s3-media3.fl.yelpcdn.com/bphoto/RXNuBo...      False   \n",
       "4  https://s3-media1.fl.yelpcdn.com/bphoto/HFgUbT...      False   \n",
       "\n",
       "                                                 url  review_count  \\\n",
       "0  https://www.yelp.com/biz/ninja-ramen-lancaster...            26   \n",
       "1  https://www.yelp.com/biz/issei-noodle-lancaste...           294   \n",
       "2  https://www.yelp.com/biz/noodle-shack-lititz-2...            75   \n",
       "3  https://www.yelp.com/biz/onions-cafe-lancaster...            76   \n",
       "4  https://www.yelp.com/biz/shogun-japanese-steak...            81   \n",
       "\n",
       "                                          categories  rating  \\\n",
       "0             [{'alias': 'ramen', 'title': 'Ramen'}]     4.5   \n",
       "1  [{'alias': 'ramen', 'title': 'Ramen'}, {'alias...     4.0   \n",
       "2  [{'alias': 'asianfusion', 'title': 'Asian Fusi...     4.0   \n",
       "3  [{'alias': 'korean', 'title': 'Korean'}, {'ali...     4.0   \n",
       "4  [{'alias': 'japanese', 'title': 'Japanese'}, {...     4.0   \n",
       "\n",
       "                                         coordinates        transactions  \\\n",
       "0  {'latitude': 40.074193163754, 'longitude': -76...                  []   \n",
       "1   {'latitude': 40.039017, 'longitude': -76.306519}          [delivery]   \n",
       "2   {'latitude': 40.130175, 'longitude': -76.307694}  [pickup, delivery]   \n",
       "3  {'latitude': 40.043698, 'longitude': -76.3069658}  [pickup, delivery]   \n",
       "4   {'latitude': 40.066578, 'longitude': -76.337663}  [pickup, delivery]   \n",
       "\n",
       "                                            location        phone  \\\n",
       "0  {'address1': '2046 Fruitville Pike', 'address2...  17178859036   \n",
       "1  {'address1': '44 N Queen St', 'address2': 'Ste...  17174496800   \n",
       "2  {'address1': '1032 Lititz Pike', 'address2': '...  17176270375   \n",
       "3  {'address1': '340 N Queen St', 'address2': '',...  17173968777   \n",
       "4  {'address1': '680 Park City Ctr', 'address2': ...  17172991000   \n",
       "\n",
       "    display_phone      distance price  \n",
       "0  (717) 885-9036   8589.063222   NaN  \n",
       "1  (717) 449-6800   6654.382822    $$  \n",
       "2  (717) 627-0375  14913.010138   NaN  \n",
       "3  (717) 396-8777   6934.240186     $  \n",
       "4  (717) 299-1000   7409.197307    $$  "
      ]
     },
     "metadata": {},
     "output_type": "display_data"
    },
    {
     "data": {
      "text/html": [
       "<div>\n",
       "<style scoped>\n",
       "    .dataframe tbody tr th:only-of-type {\n",
       "        vertical-align: middle;\n",
       "    }\n",
       "\n",
       "    .dataframe tbody tr th {\n",
       "        vertical-align: top;\n",
       "    }\n",
       "\n",
       "    .dataframe thead th {\n",
       "        text-align: right;\n",
       "    }\n",
       "</style>\n",
       "<table border=\"1\" class=\"dataframe\">\n",
       "  <thead>\n",
       "    <tr style=\"text-align: right;\">\n",
       "      <th></th>\n",
       "      <th>id</th>\n",
       "      <th>alias</th>\n",
       "      <th>name</th>\n",
       "      <th>image_url</th>\n",
       "      <th>is_closed</th>\n",
       "      <th>url</th>\n",
       "      <th>review_count</th>\n",
       "      <th>categories</th>\n",
       "      <th>rating</th>\n",
       "      <th>coordinates</th>\n",
       "      <th>transactions</th>\n",
       "      <th>location</th>\n",
       "      <th>phone</th>\n",
       "      <th>display_phone</th>\n",
       "      <th>distance</th>\n",
       "      <th>price</th>\n",
       "    </tr>\n",
       "  </thead>\n",
       "  <tbody>\n",
       "    <tr>\n",
       "      <th>9</th>\n",
       "      <td>8dmbYfe0BlqN9Jmp0P8xKQ</td>\n",
       "      <td>spring-house-brewing-company-lancaster</td>\n",
       "      <td>Spring House Brewing Company</td>\n",
       "      <td>https://s3-media2.fl.yelpcdn.com/bphoto/31WmwL...</td>\n",
       "      <td>False</td>\n",
       "      <td>https://www.yelp.com/biz/spring-house-brewing-...</td>\n",
       "      <td>214</td>\n",
       "      <td>[{'alias': 'breweries', 'title': 'Breweries'}]</td>\n",
       "      <td>3.5</td>\n",
       "      <td>{'latitude': 40.03022, 'longitude': -76.30838}</td>\n",
       "      <td>[delivery]</td>\n",
       "      <td>{'address1': '209 Hazel St', 'address2': '', '...</td>\n",
       "      <td>17179842530</td>\n",
       "      <td>(717) 984-2530</td>\n",
       "      <td>6001.292310</td>\n",
       "      <td>$$</td>\n",
       "    </tr>\n",
       "    <tr>\n",
       "      <th>10</th>\n",
       "      <td>7JBQ0PB_bSfawA-qf_xPEw</td>\n",
       "      <td>hunger-n-thirst-lancaster</td>\n",
       "      <td>Hunger N Thirst</td>\n",
       "      <td>https://s3-media1.fl.yelpcdn.com/bphoto/ALsTon...</td>\n",
       "      <td>False</td>\n",
       "      <td>https://www.yelp.com/biz/hunger-n-thirst-lanca...</td>\n",
       "      <td>197</td>\n",
       "      <td>[{'alias': 'bars', 'title': 'Bars'}, {'alias':...</td>\n",
       "      <td>4.0</td>\n",
       "      <td>{'latitude': 40.0531058, 'longitude': -76.3255...</td>\n",
       "      <td>[delivery]</td>\n",
       "      <td>{'address1': '920 Landis Ave', 'address2': '',...</td>\n",
       "      <td>17172083808</td>\n",
       "      <td>(717) 208-3808</td>\n",
       "      <td>6597.005586</td>\n",
       "      <td>$$</td>\n",
       "    </tr>\n",
       "    <tr>\n",
       "      <th>11</th>\n",
       "      <td>oHUQ7sB8_NsuQwud7x5shA</td>\n",
       "      <td>root-lancaster</td>\n",
       "      <td>Root</td>\n",
       "      <td>https://s3-media3.fl.yelpcdn.com/bphoto/scOnXZ...</td>\n",
       "      <td>False</td>\n",
       "      <td>https://www.yelp.com/biz/root-lancaster?adjust...</td>\n",
       "      <td>216</td>\n",
       "      <td>[{'alias': 'salad', 'title': 'Salad'}, {'alias...</td>\n",
       "      <td>4.0</td>\n",
       "      <td>{'latitude': 40.0425848856228, 'longitude': -7...</td>\n",
       "      <td>[delivery]</td>\n",
       "      <td>{'address1': '223 W Walnut St', 'address2': ''...</td>\n",
       "      <td>17175170918</td>\n",
       "      <td>(717) 517-0918</td>\n",
       "      <td>6648.707622</td>\n",
       "      <td>$$</td>\n",
       "    </tr>\n",
       "    <tr>\n",
       "      <th>12</th>\n",
       "      <td>5xKDaxm9lLfUBwg286adZQ</td>\n",
       "      <td>nissin-foods-usa-lancaster</td>\n",
       "      <td>Nissin Foods USA</td>\n",
       "      <td></td>\n",
       "      <td>False</td>\n",
       "      <td>https://www.yelp.com/biz/nissin-foods-usa-lanc...</td>\n",
       "      <td>1</td>\n",
       "      <td>[{'alias': 'ramen', 'title': 'Ramen'}]</td>\n",
       "      <td>1.0</td>\n",
       "      <td>{'latitude': 40.05222, 'longitude': -76.38885}</td>\n",
       "      <td>[]</td>\n",
       "      <td>{'address1': '2901 Hempland Rd', 'address2': '...</td>\n",
       "      <td>17172850945</td>\n",
       "      <td>(717) 285-0945</td>\n",
       "      <td>5459.203578</td>\n",
       "      <td>NaN</td>\n",
       "    </tr>\n",
       "    <tr>\n",
       "      <th>13</th>\n",
       "      <td>pj97qeiwdyZgQaCqXsGXZg</td>\n",
       "      <td>eastern-palace-lancaster</td>\n",
       "      <td>Eastern Palace</td>\n",
       "      <td>https://s3-media3.fl.yelpcdn.com/bphoto/NL7KWz...</td>\n",
       "      <td>False</td>\n",
       "      <td>https://www.yelp.com/biz/eastern-palace-lancas...</td>\n",
       "      <td>152</td>\n",
       "      <td>[{'alias': 'sushi', 'title': 'Sushi Bars'}, {'...</td>\n",
       "      <td>4.5</td>\n",
       "      <td>{'latitude': 40.0394087363819, 'longitude': -7...</td>\n",
       "      <td>[pickup, delivery]</td>\n",
       "      <td>{'address1': '2206 Columbia Ave', 'address2': ...</td>\n",
       "      <td>17172086356</td>\n",
       "      <td>(717) 208-6356</td>\n",
       "      <td>3860.130608</td>\n",
       "      <td>$$</td>\n",
       "    </tr>\n",
       "  </tbody>\n",
       "</table>\n",
       "</div>"
      ],
      "text/plain": [
       "                        id                                   alias  \\\n",
       "9   8dmbYfe0BlqN9Jmp0P8xKQ  spring-house-brewing-company-lancaster   \n",
       "10  7JBQ0PB_bSfawA-qf_xPEw               hunger-n-thirst-lancaster   \n",
       "11  oHUQ7sB8_NsuQwud7x5shA                          root-lancaster   \n",
       "12  5xKDaxm9lLfUBwg286adZQ              nissin-foods-usa-lancaster   \n",
       "13  pj97qeiwdyZgQaCqXsGXZg                eastern-palace-lancaster   \n",
       "\n",
       "                            name  \\\n",
       "9   Spring House Brewing Company   \n",
       "10               Hunger N Thirst   \n",
       "11                          Root   \n",
       "12              Nissin Foods USA   \n",
       "13                Eastern Palace   \n",
       "\n",
       "                                            image_url  is_closed  \\\n",
       "9   https://s3-media2.fl.yelpcdn.com/bphoto/31WmwL...      False   \n",
       "10  https://s3-media1.fl.yelpcdn.com/bphoto/ALsTon...      False   \n",
       "11  https://s3-media3.fl.yelpcdn.com/bphoto/scOnXZ...      False   \n",
       "12                                                         False   \n",
       "13  https://s3-media3.fl.yelpcdn.com/bphoto/NL7KWz...      False   \n",
       "\n",
       "                                                  url  review_count  \\\n",
       "9   https://www.yelp.com/biz/spring-house-brewing-...           214   \n",
       "10  https://www.yelp.com/biz/hunger-n-thirst-lanca...           197   \n",
       "11  https://www.yelp.com/biz/root-lancaster?adjust...           216   \n",
       "12  https://www.yelp.com/biz/nissin-foods-usa-lanc...             1   \n",
       "13  https://www.yelp.com/biz/eastern-palace-lancas...           152   \n",
       "\n",
       "                                           categories  rating  \\\n",
       "9      [{'alias': 'breweries', 'title': 'Breweries'}]     3.5   \n",
       "10  [{'alias': 'bars', 'title': 'Bars'}, {'alias':...     4.0   \n",
       "11  [{'alias': 'salad', 'title': 'Salad'}, {'alias...     4.0   \n",
       "12             [{'alias': 'ramen', 'title': 'Ramen'}]     1.0   \n",
       "13  [{'alias': 'sushi', 'title': 'Sushi Bars'}, {'...     4.5   \n",
       "\n",
       "                                          coordinates        transactions  \\\n",
       "9      {'latitude': 40.03022, 'longitude': -76.30838}          [delivery]   \n",
       "10  {'latitude': 40.0531058, 'longitude': -76.3255...          [delivery]   \n",
       "11  {'latitude': 40.0425848856228, 'longitude': -7...          [delivery]   \n",
       "12     {'latitude': 40.05222, 'longitude': -76.38885}                  []   \n",
       "13  {'latitude': 40.0394087363819, 'longitude': -7...  [pickup, delivery]   \n",
       "\n",
       "                                             location        phone  \\\n",
       "9   {'address1': '209 Hazel St', 'address2': '', '...  17179842530   \n",
       "10  {'address1': '920 Landis Ave', 'address2': '',...  17172083808   \n",
       "11  {'address1': '223 W Walnut St', 'address2': ''...  17175170918   \n",
       "12  {'address1': '2901 Hempland Rd', 'address2': '...  17172850945   \n",
       "13  {'address1': '2206 Columbia Ave', 'address2': ...  17172086356   \n",
       "\n",
       "     display_phone     distance price  \n",
       "9   (717) 984-2530  6001.292310    $$  \n",
       "10  (717) 208-3808  6597.005586    $$  \n",
       "11  (717) 517-0918  6648.707622    $$  \n",
       "12  (717) 285-0945  5459.203578   NaN  \n",
       "13  (717) 208-6356  3860.130608    $$  "
      ]
     },
     "metadata": {},
     "output_type": "display_data"
    }
   ],
   "source": [
    "final_df= pd.read_json(JSON_FILE)\n",
    "display(final_df.head(), final_df.tail())"
   ]
  },
  {
   "cell_type": "code",
   "execution_count": null,
   "id": "c9881f59-1a47-457c-b122-3afbf212b9ba",
   "metadata": {},
   "outputs": [],
   "source": []
  }
 ],
 "metadata": {
  "kernelspec": {
   "display_name": "Python (dojo-env)",
   "language": "python",
   "name": "dojo-env"
  },
  "language_info": {
   "codemirror_mode": {
    "name": "ipython",
    "version": 3
   },
   "file_extension": ".py",
   "mimetype": "text/x-python",
   "name": "python",
   "nbconvert_exporter": "python",
   "pygments_lexer": "ipython3",
   "version": "3.10.10"
  },
  "widgets": {
   "application/vnd.jupyter.widget-state+json": {
    "state": {},
    "version_major": 2,
    "version_minor": 0
   }
  }
 },
 "nbformat": 4,
 "nbformat_minor": 5
}
