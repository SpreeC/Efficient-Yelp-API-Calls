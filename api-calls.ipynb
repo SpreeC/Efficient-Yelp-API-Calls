{
 "cells": [
  {
   "cell_type": "markdown",
   "id": "bc8044c6-3bf4-460c-8a1f-0a854c915768",
   "metadata": {},
   "source": [
    "# Imports"
   ]
  },
  {
   "cell_type": "code",
   "execution_count": 1,
   "id": "5e2238f0-5362-4fe7-8801-d3129a9e1420",
   "metadata": {},
   "outputs": [],
   "source": [
    "import numpy as np\n",
    "import pandas as pd\n",
    "import os, json, math, time"
   ]
  },
  {
   "cell_type": "code",
   "execution_count": 2,
   "id": "03e38513-d7d0-497d-87fb-49b4c78ccdda",
   "metadata": {},
   "outputs": [
    {
     "name": "stdout",
     "output_type": "stream",
     "text": [
      "Collecting yelpapi\n",
      "  Downloading yelpapi-2.5.0-py3-none-any.whl (7.4 kB)\n",
      "Requirement already satisfied: requests in c:\\users\\17175\\anaconda3\\envs\\dojo-env\\lib\\site-packages (from yelpapi) (2.29.0)\n",
      "Requirement already satisfied: charset-normalizer<4,>=2 in c:\\users\\17175\\anaconda3\\envs\\dojo-env\\lib\\site-packages (from requests->yelpapi) (2.0.4)\n",
      "Requirement already satisfied: idna<4,>=2.5 in c:\\users\\17175\\anaconda3\\envs\\dojo-env\\lib\\site-packages (from requests->yelpapi) (3.4)\n",
      "Requirement already satisfied: urllib3<1.27,>=1.21.1 in c:\\users\\17175\\anaconda3\\envs\\dojo-env\\lib\\site-packages (from requests->yelpapi) (1.26.15)\n",
      "Requirement already satisfied: certifi>=2017.4.17 in c:\\users\\17175\\anaconda3\\envs\\dojo-env\\lib\\site-packages (from requests->yelpapi) (2023.5.7)\n",
      "Installing collected packages: yelpapi\n",
      "Successfully installed yelpapi-2.5.0\n",
      "Requirement already satisfied: tqdm in c:\\users\\17175\\anaconda3\\envs\\dojo-env\\lib\\site-packages (4.65.0)\n",
      "Requirement already satisfied: colorama in c:\\users\\17175\\anaconda3\\envs\\dojo-env\\lib\\site-packages (from tqdm) (0.4.6)\n"
     ]
    }
   ],
   "source": [
    "!pip install yelpapi\n",
    "!pip install tqdm"
   ]
  },
  {
   "cell_type": "code",
   "execution_count": 4,
   "id": "a7399163-a5a9-426b-b332-83a8dab33b67",
   "metadata": {},
   "outputs": [],
   "source": [
    "from yelpapi import YelpAPI\n",
    "from tqdm.notebook import tqdm_notebook"
   ]
  },
  {
   "cell_type": "code",
   "execution_count": 5,
   "id": "f7c0cdea-5176-415e-bc11-e545656927d9",
   "metadata": {},
   "outputs": [],
   "source": [
    "#load API Credentials\n",
    "with open('/Users/17175/.secret/yelp_api.json','r') as f:\n",
    "    login = json.load(f)"
   ]
  },
  {
   "cell_type": "code",
   "execution_count": 6,
   "id": "e978ac5c-119e-4892-9f6f-06f821058273",
   "metadata": {},
   "outputs": [
    {
     "data": {
      "text/plain": [
       "dict_keys(['client-id', 'api-key'])"
      ]
     },
     "execution_count": 6,
     "metadata": {},
     "output_type": "execute_result"
    }
   ],
   "source": [
    "login.keys()"
   ]
  },
  {
   "cell_type": "code",
   "execution_count": 7,
   "id": "2bbca3ef-95ae-416c-9f0b-b7e1cdcad184",
   "metadata": {},
   "outputs": [],
   "source": [
    "#instantiate yelpapi variable\n",
    "yelp = YelpAPI(login['api-key'], timeout_s = 5.0)"
   ]
  },
  {
   "cell_type": "code",
   "execution_count": null,
   "id": "03fc0673-830b-414c-b612-965a273f99ad",
   "metadata": {},
   "outputs": [],
   "source": []
  }
 ],
 "metadata": {
  "kernelspec": {
   "display_name": "Python (dojo-env)",
   "language": "python",
   "name": "dojo-env"
  },
  "language_info": {
   "codemirror_mode": {
    "name": "ipython",
    "version": 3
   },
   "file_extension": ".py",
   "mimetype": "text/x-python",
   "name": "python",
   "nbconvert_exporter": "python",
   "pygments_lexer": "ipython3",
   "version": "3.10.10"
  },
  "widgets": {
   "application/vnd.jupyter.widget-state+json": {
    "state": {},
    "version_major": 2,
    "version_minor": 0
   }
  }
 },
 "nbformat": 4,
 "nbformat_minor": 5
}
